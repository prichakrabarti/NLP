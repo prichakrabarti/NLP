{
 "cells": [
  {
   "cell_type": "code",
   "execution_count": 1,
   "metadata": {},
   "outputs": [],
   "source": [
    "import os\n",
    "import pandas as pd\n",
    "import numpy as np"
   ]
  },
  {
   "cell_type": "code",
   "execution_count": 51,
   "metadata": {},
   "outputs": [
    {
     "data": {
      "text/plain": [
       "'/Users/prichakrabarti/Desktop'"
      ]
     },
     "execution_count": 51,
     "metadata": {},
     "output_type": "execute_result"
    }
   ],
   "source": [
    "os.getcwd()"
   ]
  },
  {
   "cell_type": "code",
   "execution_count": 59,
   "metadata": {},
   "outputs": [],
   "source": [
    "with open(r'/Users/prichakrabarti/Desktop/folder/imdb_old.txt', \"r\") as infile, \\\n",
    "open (r'/Users/prichakrabarti/Desktop/folder/imdb_new.txt', \"w\") as outfile:\n",
    "    data = infile.read()\n",
    "    data = data.replace('\"', '')\n",
    "    outfile.write(data)"
   ]
  },
  {
   "cell_type": "code",
   "execution_count": 138,
   "metadata": {},
   "outputs": [],
   "source": [
    "df = pd.read_csv(\"folder/imdb_new.txt\",delimiter=\"\\t\", names = [\"Review\", \"Label\"] )"
   ]
  },
  {
   "cell_type": "code",
   "execution_count": 139,
   "metadata": {},
   "outputs": [
    {
     "data": {
      "text/plain": [
       "(1000, 2)"
      ]
     },
     "execution_count": 139,
     "metadata": {},
     "output_type": "execute_result"
    }
   ],
   "source": [
    "df.shape"
   ]
  },
  {
   "cell_type": "code",
   "execution_count": 140,
   "metadata": {},
   "outputs": [
    {
     "data": {
      "text/html": [
       "<div>\n",
       "<style scoped>\n",
       "    .dataframe tbody tr th:only-of-type {\n",
       "        vertical-align: middle;\n",
       "    }\n",
       "\n",
       "    .dataframe tbody tr th {\n",
       "        vertical-align: top;\n",
       "    }\n",
       "\n",
       "    .dataframe thead th {\n",
       "        text-align: right;\n",
       "    }\n",
       "</style>\n",
       "<table border=\"1\" class=\"dataframe\">\n",
       "  <thead>\n",
       "    <tr style=\"text-align: right;\">\n",
       "      <th></th>\n",
       "      <th>Review</th>\n",
       "      <th>Label</th>\n",
       "    </tr>\n",
       "  </thead>\n",
       "  <tbody>\n",
       "    <tr>\n",
       "      <th>0</th>\n",
       "      <td>A very, very, very slow-moving, aimless movie ...</td>\n",
       "      <td>0</td>\n",
       "    </tr>\n",
       "    <tr>\n",
       "      <th>1</th>\n",
       "      <td>Not sure who was more lost - the flat characte...</td>\n",
       "      <td>0</td>\n",
       "    </tr>\n",
       "    <tr>\n",
       "      <th>2</th>\n",
       "      <td>Attempting artiness with black &amp; white and cle...</td>\n",
       "      <td>0</td>\n",
       "    </tr>\n",
       "    <tr>\n",
       "      <th>3</th>\n",
       "      <td>Very little music or anything to speak of.</td>\n",
       "      <td>0</td>\n",
       "    </tr>\n",
       "    <tr>\n",
       "      <th>4</th>\n",
       "      <td>The best scene in the movie was when Gerardo i...</td>\n",
       "      <td>1</td>\n",
       "    </tr>\n",
       "  </tbody>\n",
       "</table>\n",
       "</div>"
      ],
      "text/plain": [
       "                                              Review  Label\n",
       "0  A very, very, very slow-moving, aimless movie ...      0\n",
       "1  Not sure who was more lost - the flat characte...      0\n",
       "2  Attempting artiness with black & white and cle...      0\n",
       "3       Very little music or anything to speak of.        0\n",
       "4  The best scene in the movie was when Gerardo i...      1"
      ]
     },
     "execution_count": 140,
     "metadata": {},
     "output_type": "execute_result"
    }
   ],
   "source": [
    "df.head()"
   ]
  },
  {
   "cell_type": "code",
   "execution_count": 141,
   "metadata": {},
   "outputs": [
    {
     "data": {
      "text/plain": [
       "1    500\n",
       "0    500\n",
       "Name: Label, dtype: int64"
      ]
     },
     "execution_count": 141,
     "metadata": {},
     "output_type": "execute_result"
    }
   ],
   "source": [
    "#Evaluate the target variable\n",
    "df[\"Label\"].value_counts()"
   ]
  },
  {
   "cell_type": "code",
   "execution_count": 142,
   "metadata": {},
   "outputs": [],
   "source": [
    "#Balanced dataset - no class imbalance "
   ]
  },
  {
   "cell_type": "code",
   "execution_count": 143,
   "metadata": {},
   "outputs": [],
   "source": [
    "text = df[\"Review\"]"
   ]
  },
  {
   "cell_type": "code",
   "execution_count": 144,
   "metadata": {},
   "outputs": [],
   "source": [
    "import re\n",
    "import nltk\n",
    "from nltk.stem.wordnet import WordNetLemmatizer\n",
    "wpt = nltk.WordPunctTokenizer()\n",
    "stop_words = nltk.corpus.stopwords.words('english')\n",
    "wnl= WordNetLemmatizer()\n",
    "#.lemmatize(text, pos='v'))\n",
    "\n",
    "def normalize_document(doc):\n",
    "    # lower case and remove special characters\\whitespaces\n",
    "    doc = re.sub(r'[^a-zA-Z\\s]', '', doc, re.I|re.A)\n",
    "    doc = doc.lower()\n",
    "    doc = doc.strip()\n",
    "    # tokenize document\n",
    "    tokens = wpt.tokenize(doc)\n",
    "    # filter stopwords out of document\n",
    "    filtered_tokens = [token for token in tokens if token not in stop_words]\n",
    "    #Lemmetization\n",
    "    lem_tokens = [wnl.lemmatize(word, pos=\"v\") for word in filtered_tokens]\n",
    "    # re-create document from filtered tokens\n",
    "    doc = ' '.join(lem_tokens)\n",
    "    return doc"
   ]
  },
  {
   "cell_type": "code",
   "execution_count": 145,
   "metadata": {},
   "outputs": [],
   "source": [
    "normalize_corpus = np.vectorize(normalize_document)"
   ]
  },
  {
   "cell_type": "code",
   "execution_count": 146,
   "metadata": {},
   "outputs": [],
   "source": [
    "y = df[\"Label\"]"
   ]
  },
  {
   "cell_type": "code",
   "execution_count": 147,
   "metadata": {},
   "outputs": [],
   "source": [
    "norm_corpus = normalize_corpus(text)"
   ]
  },
  {
   "cell_type": "code",
   "execution_count": 148,
   "metadata": {},
   "outputs": [],
   "source": [
    "from sklearn.feature_extraction.text import CountVectorizer\n",
    "\n",
    "cv = CountVectorizer()"
   ]
  },
  {
   "cell_type": "code",
   "execution_count": 149,
   "metadata": {},
   "outputs": [],
   "source": [
    "from sklearn.model_selection import train_test_split as tts\n",
    "X_train, X_test, y_train, y_test= tts(norm_corpus, y, test_size=0.3, random_state= 42)"
   ]
  },
  {
   "cell_type": "code",
   "execution_count": 150,
   "metadata": {},
   "outputs": [],
   "source": [
    "X_train = cv.fit_transform(X_train)\n",
    "X_test= cv.transform(X_test)"
   ]
  },
  {
   "cell_type": "code",
   "execution_count": 151,
   "metadata": {},
   "outputs": [
    {
     "data": {
      "text/plain": [
       "(700, 2158)"
      ]
     },
     "execution_count": 151,
     "metadata": {},
     "output_type": "execute_result"
    }
   ],
   "source": [
    "X_train.shape"
   ]
  },
  {
   "cell_type": "code",
   "execution_count": 152,
   "metadata": {},
   "outputs": [
    {
     "data": {
      "text/plain": [
       "(300, 2158)"
      ]
     },
     "execution_count": 152,
     "metadata": {},
     "output_type": "execute_result"
    }
   ],
   "source": [
    "X_test.shape"
   ]
  },
  {
   "cell_type": "code",
   "execution_count": 153,
   "metadata": {},
   "outputs": [],
   "source": [
    "# get all unique words in the corpus\n",
    "vocab = cv.get_feature_names()\n",
    "# show document feature vectors\n",
    "matrix = pd.DataFrame(X_train.toarray(), columns=vocab)"
   ]
  },
  {
   "cell_type": "code",
   "execution_count": 154,
   "metadata": {
    "scrolled": true
   },
   "outputs": [
    {
     "data": {
      "text/html": [
       "<div>\n",
       "<style scoped>\n",
       "    .dataframe tbody tr th:only-of-type {\n",
       "        vertical-align: middle;\n",
       "    }\n",
       "\n",
       "    .dataframe tbody tr th {\n",
       "        vertical-align: top;\n",
       "    }\n",
       "\n",
       "    .dataframe thead th {\n",
       "        text-align: right;\n",
       "    }\n",
       "</style>\n",
       "<table border=\"1\" class=\"dataframe\">\n",
       "  <thead>\n",
       "    <tr style=\"text-align: right;\">\n",
       "      <th></th>\n",
       "      <th>aailiyah</th>\n",
       "      <th>abandon</th>\n",
       "      <th>ability</th>\n",
       "      <th>abroad</th>\n",
       "      <th>absolutely</th>\n",
       "      <th>abstruse</th>\n",
       "      <th>abysmal</th>\n",
       "      <th>accent</th>\n",
       "      <th>acclaim</th>\n",
       "      <th>accolades</th>\n",
       "      <th>...</th>\n",
       "      <th>yes</th>\n",
       "      <th>yet</th>\n",
       "      <th>youd</th>\n",
       "      <th>youdo</th>\n",
       "      <th>young</th>\n",
       "      <th>youre</th>\n",
       "      <th>yun</th>\n",
       "      <th>zillion</th>\n",
       "      <th>zombie</th>\n",
       "      <th>zombiez</th>\n",
       "    </tr>\n",
       "  </thead>\n",
       "  <tbody>\n",
       "    <tr>\n",
       "      <th>0</th>\n",
       "      <td>0</td>\n",
       "      <td>0</td>\n",
       "      <td>0</td>\n",
       "      <td>0</td>\n",
       "      <td>0</td>\n",
       "      <td>0</td>\n",
       "      <td>0</td>\n",
       "      <td>0</td>\n",
       "      <td>0</td>\n",
       "      <td>0</td>\n",
       "      <td>...</td>\n",
       "      <td>0</td>\n",
       "      <td>0</td>\n",
       "      <td>0</td>\n",
       "      <td>0</td>\n",
       "      <td>0</td>\n",
       "      <td>0</td>\n",
       "      <td>0</td>\n",
       "      <td>0</td>\n",
       "      <td>0</td>\n",
       "      <td>0</td>\n",
       "    </tr>\n",
       "    <tr>\n",
       "      <th>1</th>\n",
       "      <td>0</td>\n",
       "      <td>0</td>\n",
       "      <td>0</td>\n",
       "      <td>0</td>\n",
       "      <td>0</td>\n",
       "      <td>0</td>\n",
       "      <td>0</td>\n",
       "      <td>0</td>\n",
       "      <td>0</td>\n",
       "      <td>0</td>\n",
       "      <td>...</td>\n",
       "      <td>0</td>\n",
       "      <td>0</td>\n",
       "      <td>0</td>\n",
       "      <td>0</td>\n",
       "      <td>0</td>\n",
       "      <td>0</td>\n",
       "      <td>0</td>\n",
       "      <td>0</td>\n",
       "      <td>0</td>\n",
       "      <td>0</td>\n",
       "    </tr>\n",
       "    <tr>\n",
       "      <th>2</th>\n",
       "      <td>0</td>\n",
       "      <td>0</td>\n",
       "      <td>0</td>\n",
       "      <td>0</td>\n",
       "      <td>0</td>\n",
       "      <td>0</td>\n",
       "      <td>0</td>\n",
       "      <td>0</td>\n",
       "      <td>0</td>\n",
       "      <td>0</td>\n",
       "      <td>...</td>\n",
       "      <td>0</td>\n",
       "      <td>0</td>\n",
       "      <td>0</td>\n",
       "      <td>0</td>\n",
       "      <td>0</td>\n",
       "      <td>0</td>\n",
       "      <td>0</td>\n",
       "      <td>0</td>\n",
       "      <td>0</td>\n",
       "      <td>0</td>\n",
       "    </tr>\n",
       "    <tr>\n",
       "      <th>3</th>\n",
       "      <td>0</td>\n",
       "      <td>0</td>\n",
       "      <td>0</td>\n",
       "      <td>0</td>\n",
       "      <td>0</td>\n",
       "      <td>0</td>\n",
       "      <td>0</td>\n",
       "      <td>0</td>\n",
       "      <td>0</td>\n",
       "      <td>0</td>\n",
       "      <td>...</td>\n",
       "      <td>0</td>\n",
       "      <td>0</td>\n",
       "      <td>0</td>\n",
       "      <td>0</td>\n",
       "      <td>0</td>\n",
       "      <td>0</td>\n",
       "      <td>0</td>\n",
       "      <td>0</td>\n",
       "      <td>0</td>\n",
       "      <td>0</td>\n",
       "    </tr>\n",
       "    <tr>\n",
       "      <th>4</th>\n",
       "      <td>0</td>\n",
       "      <td>0</td>\n",
       "      <td>0</td>\n",
       "      <td>0</td>\n",
       "      <td>0</td>\n",
       "      <td>0</td>\n",
       "      <td>0</td>\n",
       "      <td>0</td>\n",
       "      <td>0</td>\n",
       "      <td>0</td>\n",
       "      <td>...</td>\n",
       "      <td>0</td>\n",
       "      <td>0</td>\n",
       "      <td>0</td>\n",
       "      <td>0</td>\n",
       "      <td>0</td>\n",
       "      <td>0</td>\n",
       "      <td>0</td>\n",
       "      <td>0</td>\n",
       "      <td>0</td>\n",
       "      <td>0</td>\n",
       "    </tr>\n",
       "  </tbody>\n",
       "</table>\n",
       "<p>5 rows × 2158 columns</p>\n",
       "</div>"
      ],
      "text/plain": [
       "   aailiyah  abandon  ability  abroad  absolutely  abstruse  abysmal  accent  \\\n",
       "0         0        0        0       0           0         0        0       0   \n",
       "1         0        0        0       0           0         0        0       0   \n",
       "2         0        0        0       0           0         0        0       0   \n",
       "3         0        0        0       0           0         0        0       0   \n",
       "4         0        0        0       0           0         0        0       0   \n",
       "\n",
       "   acclaim  accolades   ...     yes  yet  youd  youdo  young  youre  yun  \\\n",
       "0        0          0   ...       0    0     0      0      0      0    0   \n",
       "1        0          0   ...       0    0     0      0      0      0    0   \n",
       "2        0          0   ...       0    0     0      0      0      0    0   \n",
       "3        0          0   ...       0    0     0      0      0      0    0   \n",
       "4        0          0   ...       0    0     0      0      0      0    0   \n",
       "\n",
       "   zillion  zombie  zombiez  \n",
       "0        0       0        0  \n",
       "1        0       0        0  \n",
       "2        0       0        0  \n",
       "3        0       0        0  \n",
       "4        0       0        0  \n",
       "\n",
       "[5 rows x 2158 columns]"
      ]
     },
     "execution_count": 154,
     "metadata": {},
     "output_type": "execute_result"
    }
   ],
   "source": [
    "matrix.head()"
   ]
  },
  {
   "cell_type": "code",
   "execution_count": 155,
   "metadata": {},
   "outputs": [],
   "source": [
    "from sklearn.naive_bayes import MultinomialNB"
   ]
  },
  {
   "cell_type": "code",
   "execution_count": 156,
   "metadata": {},
   "outputs": [],
   "source": [
    "nb = MultinomialNB()"
   ]
  },
  {
   "cell_type": "code",
   "execution_count": 157,
   "metadata": {},
   "outputs": [
    {
     "data": {
      "text/plain": [
       "MultinomialNB(alpha=1.0, class_prior=None, fit_prior=True)"
      ]
     },
     "execution_count": 157,
     "metadata": {},
     "output_type": "execute_result"
    }
   ],
   "source": [
    "nb.fit(X_train, y_train)"
   ]
  },
  {
   "cell_type": "code",
   "execution_count": 158,
   "metadata": {},
   "outputs": [],
   "source": [
    "y_pred = nb.predict(X_test)"
   ]
  },
  {
   "cell_type": "code",
   "execution_count": 159,
   "metadata": {},
   "outputs": [],
   "source": [
    "from sklearn.metrics import accuracy_score"
   ]
  },
  {
   "cell_type": "code",
   "execution_count": 160,
   "metadata": {},
   "outputs": [
    {
     "data": {
      "text/plain": [
       "0.8066666666666666"
      ]
     },
     "execution_count": 160,
     "metadata": {},
     "output_type": "execute_result"
    }
   ],
   "source": [
    "accuracy_score(y_test, y_pred)"
   ]
  },
  {
   "cell_type": "code",
   "execution_count": 161,
   "metadata": {},
   "outputs": [],
   "source": [
    "from sklearn.svm import SVC"
   ]
  },
  {
   "cell_type": "code",
   "execution_count": 162,
   "metadata": {},
   "outputs": [],
   "source": [
    "svc = SVC(kernel=\"linear\")"
   ]
  },
  {
   "cell_type": "code",
   "execution_count": 163,
   "metadata": {},
   "outputs": [
    {
     "data": {
      "text/plain": [
       "SVC(C=1.0, cache_size=200, class_weight=None, coef0=0.0,\n",
       "  decision_function_shape='ovr', degree=3, gamma='auto_deprecated',\n",
       "  kernel='linear', max_iter=-1, probability=False, random_state=None,\n",
       "  shrinking=True, tol=0.001, verbose=False)"
      ]
     },
     "execution_count": 163,
     "metadata": {},
     "output_type": "execute_result"
    }
   ],
   "source": [
    "svc.fit(X_train, y_train)"
   ]
  },
  {
   "cell_type": "code",
   "execution_count": 164,
   "metadata": {},
   "outputs": [],
   "source": [
    "y_pred_svc= svc.predict(X_test)"
   ]
  },
  {
   "cell_type": "code",
   "execution_count": 165,
   "metadata": {},
   "outputs": [
    {
     "data": {
      "text/plain": [
       "0.75"
      ]
     },
     "execution_count": 165,
     "metadata": {},
     "output_type": "execute_result"
    }
   ],
   "source": [
    "accuracy_score(y_test, y_pred_svc)"
   ]
  },
  {
   "cell_type": "code",
   "execution_count": 166,
   "metadata": {},
   "outputs": [],
   "source": [
    "from xgboost import XGBClassifier"
   ]
  },
  {
   "cell_type": "code",
   "execution_count": 167,
   "metadata": {},
   "outputs": [],
   "source": [
    "xgb = XGBClassifier()"
   ]
  },
  {
   "cell_type": "code",
   "execution_count": 168,
   "metadata": {},
   "outputs": [
    {
     "data": {
      "text/plain": [
       "XGBClassifier(base_score=0.5, booster='gbtree', colsample_bylevel=1,\n",
       "       colsample_bytree=1, gamma=0, learning_rate=0.1, max_delta_step=0,\n",
       "       max_depth=3, min_child_weight=1, missing=None, n_estimators=100,\n",
       "       n_jobs=1, nthread=None, objective='binary:logistic', random_state=0,\n",
       "       reg_alpha=0, reg_lambda=1, scale_pos_weight=1, seed=None,\n",
       "       silent=True, subsample=1)"
      ]
     },
     "execution_count": 168,
     "metadata": {},
     "output_type": "execute_result"
    }
   ],
   "source": [
    "xgb.fit(X_train, y_train)"
   ]
  },
  {
   "cell_type": "code",
   "execution_count": 169,
   "metadata": {},
   "outputs": [],
   "source": [
    "y_pred_xgb= xgb.predict(X_test)"
   ]
  },
  {
   "cell_type": "code",
   "execution_count": 170,
   "metadata": {},
   "outputs": [
    {
     "data": {
      "text/plain": [
       "0.68"
      ]
     },
     "execution_count": 170,
     "metadata": {},
     "output_type": "execute_result"
    }
   ],
   "source": [
    "accuracy_score(y_test, y_pred_xgb)"
   ]
  },
  {
   "cell_type": "code",
   "execution_count": 171,
   "metadata": {},
   "outputs": [],
   "source": [
    "y_pred_train_nb= nb.predict(X_train)"
   ]
  },
  {
   "cell_type": "code",
   "execution_count": 172,
   "metadata": {},
   "outputs": [
    {
     "data": {
      "text/plain": [
       "0.9628571428571429"
      ]
     },
     "execution_count": 172,
     "metadata": {},
     "output_type": "execute_result"
    }
   ],
   "source": [
    "accuracy_score(y_train, y_pred_train_nb)"
   ]
  },
  {
   "cell_type": "code",
   "execution_count": 173,
   "metadata": {},
   "outputs": [],
   "source": [
    "#Training accuracy is 97% and the test set accuracy is 81% - we can be fairly confident of no overfitting"
   ]
  },
  {
   "cell_type": "code",
   "execution_count": 174,
   "metadata": {},
   "outputs": [],
   "source": [
    "from sklearn.feature_extraction.text import TfidfVectorizer"
   ]
  },
  {
   "cell_type": "code",
   "execution_count": 175,
   "metadata": {},
   "outputs": [],
   "source": [
    "tf = TfidfVectorizer()"
   ]
  },
  {
   "cell_type": "code",
   "execution_count": 176,
   "metadata": {},
   "outputs": [],
   "source": [
    "X_train, X_test, y_train, y_test = tts(text, y, test_size= 0.3, random_state= 42)"
   ]
  },
  {
   "cell_type": "code",
   "execution_count": 177,
   "metadata": {},
   "outputs": [],
   "source": [
    "X_tf_train = tf.fit_transform(X_train)"
   ]
  },
  {
   "cell_type": "code",
   "execution_count": 178,
   "metadata": {},
   "outputs": [],
   "source": [
    "X_tf_test = tf.transform(X_test)"
   ]
  },
  {
   "cell_type": "code",
   "execution_count": 179,
   "metadata": {},
   "outputs": [
    {
     "data": {
      "text/plain": [
       "MultinomialNB(alpha=1.0, class_prior=None, fit_prior=True)"
      ]
     },
     "execution_count": 179,
     "metadata": {},
     "output_type": "execute_result"
    }
   ],
   "source": [
    "nb.fit(X_tf_train, y_train)"
   ]
  },
  {
   "cell_type": "code",
   "execution_count": 180,
   "metadata": {},
   "outputs": [],
   "source": [
    "y_pred_tf= nb.predict(X_tf_test)"
   ]
  },
  {
   "cell_type": "code",
   "execution_count": 181,
   "metadata": {},
   "outputs": [
    {
     "data": {
      "text/plain": [
       "0.7933333333333333"
      ]
     },
     "execution_count": 181,
     "metadata": {},
     "output_type": "execute_result"
    }
   ],
   "source": [
    "accuracy_score(y_test, y_pred_tf)"
   ]
  },
  {
   "cell_type": "code",
   "execution_count": 182,
   "metadata": {},
   "outputs": [],
   "source": [
    "bv = CountVectorizer(ngram_range=(2,2))"
   ]
  },
  {
   "cell_type": "code",
   "execution_count": 183,
   "metadata": {},
   "outputs": [],
   "source": [
    "X_train_bigram= bv.fit_transform(X_train)"
   ]
  },
  {
   "cell_type": "code",
   "execution_count": 184,
   "metadata": {},
   "outputs": [],
   "source": [
    "X_test_bigram= bv.transform(X_test)"
   ]
  },
  {
   "cell_type": "code",
   "execution_count": 185,
   "metadata": {},
   "outputs": [
    {
     "data": {
      "text/plain": [
       "MultinomialNB(alpha=1.0, class_prior=None, fit_prior=True)"
      ]
     },
     "execution_count": 185,
     "metadata": {},
     "output_type": "execute_result"
    }
   ],
   "source": [
    "nb.fit(X_train_bigram, y_train)"
   ]
  },
  {
   "cell_type": "code",
   "execution_count": 186,
   "metadata": {},
   "outputs": [],
   "source": [
    "y_pred_bi= nb.predict(X_test_bigram)"
   ]
  },
  {
   "cell_type": "code",
   "execution_count": 187,
   "metadata": {
    "scrolled": true
   },
   "outputs": [
    {
     "data": {
      "text/plain": [
       "0.6933333333333334"
      ]
     },
     "execution_count": 187,
     "metadata": {},
     "output_type": "execute_result"
    }
   ],
   "source": [
    "accuracy_score(y_test, y_pred_bi)"
   ]
  },
  {
   "cell_type": "code",
   "execution_count": 190,
   "metadata": {},
   "outputs": [],
   "source": [
    "#Implement an LSA model for vectorization - to reduce our dimensions"
   ]
  },
  {
   "cell_type": "code",
   "execution_count": 192,
   "metadata": {},
   "outputs": [],
   "source": [
    "from sklearn.decomposition import TruncatedSVD"
   ]
  },
  {
   "cell_type": "code",
   "execution_count": 286,
   "metadata": {},
   "outputs": [],
   "source": [
    "svd_model = TruncatedSVD(n_components=700, algorithm='randomized', n_iter=100, random_state=122)"
   ]
  },
  {
   "cell_type": "code",
   "execution_count": 287,
   "metadata": {},
   "outputs": [],
   "source": [
    "X= tf.fit_transform(norm_corpus)"
   ]
  },
  {
   "cell_type": "code",
   "execution_count": 288,
   "metadata": {
    "scrolled": true
   },
   "outputs": [],
   "source": [
    "svd_matrix= svd_model.fit_transform(X)"
   ]
  },
  {
   "cell_type": "code",
   "execution_count": 289,
   "metadata": {},
   "outputs": [
    {
     "data": {
      "text/plain": [
       "700"
      ]
     },
     "execution_count": 289,
     "metadata": {},
     "output_type": "execute_result"
    }
   ],
   "source": [
    "len(svd_model.components_)"
   ]
  },
  {
   "cell_type": "code",
   "execution_count": 290,
   "metadata": {},
   "outputs": [],
   "source": [
    "# terms = tf.get_feature_names()\n",
    "\n",
    "# for i, comp in enumerate(svd_model.components_):\n",
    "#     terms_comp = zip(terms, comp)\n",
    "#     sorted_terms = sorted(terms_comp, key= lambda x:x[1], reverse=True)[:7]\n",
    "#     print(\"Topic \"+str(i)+\": \")\n",
    "#     for t in sorted_terms:\n",
    "#         print(t[0])\n",
    "#     print(\" \")"
   ]
  },
  {
   "cell_type": "code",
   "execution_count": 291,
   "metadata": {},
   "outputs": [],
   "source": [
    "X_train, X_test = tts(svd_matrix, test_size=0.3, random_state= 42)"
   ]
  },
  {
   "cell_type": "code",
   "execution_count": 292,
   "metadata": {},
   "outputs": [
    {
     "data": {
      "text/plain": [
       "SVC(C=1.0, cache_size=200, class_weight=None, coef0=0.0,\n",
       "  decision_function_shape='ovr', degree=3, gamma='auto_deprecated',\n",
       "  kernel='linear', max_iter=-1, probability=False, random_state=None,\n",
       "  shrinking=True, tol=0.001, verbose=False)"
      ]
     },
     "execution_count": 292,
     "metadata": {},
     "output_type": "execute_result"
    }
   ],
   "source": [
    "svc.fit(X_train, y_train)"
   ]
  },
  {
   "cell_type": "code",
   "execution_count": 293,
   "metadata": {},
   "outputs": [],
   "source": [
    "svd_pred= svc.predict(X_test)"
   ]
  },
  {
   "cell_type": "code",
   "execution_count": 294,
   "metadata": {},
   "outputs": [
    {
     "data": {
      "text/plain": [
       "0.7866666666666666"
      ]
     },
     "execution_count": 294,
     "metadata": {},
     "output_type": "execute_result"
    }
   ],
   "source": [
    "accuracy_score(y_test, svd_pred)"
   ]
  },
  {
   "cell_type": "code",
   "execution_count": 295,
   "metadata": {},
   "outputs": [],
   "source": [
    "from sklearn.linear_model import LogisticRegression"
   ]
  },
  {
   "cell_type": "code",
   "execution_count": 296,
   "metadata": {},
   "outputs": [],
   "source": [
    "logreg= LogisticRegression()"
   ]
  },
  {
   "cell_type": "code",
   "execution_count": 297,
   "metadata": {},
   "outputs": [
    {
     "name": "stderr",
     "output_type": "stream",
     "text": [
      "/anaconda3/lib/python3.7/site-packages/sklearn/linear_model/logistic.py:433: FutureWarning: Default solver will be changed to 'lbfgs' in 0.22. Specify a solver to silence this warning.\n",
      "  FutureWarning)\n"
     ]
    },
    {
     "data": {
      "text/plain": [
       "LogisticRegression(C=1.0, class_weight=None, dual=False, fit_intercept=True,\n",
       "          intercept_scaling=1, max_iter=100, multi_class='warn',\n",
       "          n_jobs=None, penalty='l2', random_state=None, solver='warn',\n",
       "          tol=0.0001, verbose=0, warm_start=False)"
      ]
     },
     "execution_count": 297,
     "metadata": {},
     "output_type": "execute_result"
    }
   ],
   "source": [
    "logreg.fit(X_train, y_train)"
   ]
  },
  {
   "cell_type": "code",
   "execution_count": 298,
   "metadata": {},
   "outputs": [],
   "source": [
    "y_logreg= logreg.predict(X_test)"
   ]
  },
  {
   "cell_type": "code",
   "execution_count": 299,
   "metadata": {},
   "outputs": [
    {
     "data": {
      "text/plain": [
       "0.7866666666666666"
      ]
     },
     "execution_count": 299,
     "metadata": {},
     "output_type": "execute_result"
    }
   ],
   "source": [
    "accuracy_score(y_test, y_logreg)"
   ]
  },
  {
   "cell_type": "code",
   "execution_count": 300,
   "metadata": {},
   "outputs": [
    {
     "data": {
      "text/plain": [
       "1000"
      ]
     },
     "execution_count": 300,
     "metadata": {},
     "output_type": "execute_result"
    }
   ],
   "source": [
    "len(norm_corpus)"
   ]
  },
  {
   "cell_type": "code",
   "execution_count": null,
   "metadata": {},
   "outputs": [],
   "source": [
    "#SVD is underperforming because here each record is a single sentence- it works better when its a group of sentences\n",
    "#either a group of sentences or the entire corpus is one record- then SVD works well\n",
    "#So our ML algorithms are giving us a max of 81% accuracy "
   ]
  },
  {
   "cell_type": "code",
   "execution_count": 301,
   "metadata": {},
   "outputs": [
    {
     "name": "stderr",
     "output_type": "stream",
     "text": [
      "Using TensorFlow backend.\n",
      "/anaconda3/lib/python3.7/importlib/_bootstrap.py:219: RuntimeWarning: compiletime version 3.6 of module 'tensorflow.python.framework.fast_tensor_util' does not match runtime version 3.7\n",
      "  return f(*args, **kwds)\n"
     ]
    }
   ],
   "source": [
    "#Now we will implement this using Deep Learning\n",
    "\n",
    "from keras.models import Sequential"
   ]
  },
  {
   "cell_type": "code",
   "execution_count": 303,
   "metadata": {},
   "outputs": [],
   "source": [
    "from keras import layers"
   ]
  },
  {
   "cell_type": "code",
   "execution_count": 307,
   "metadata": {},
   "outputs": [
    {
     "data": {
      "text/plain": [
       "700"
      ]
     },
     "execution_count": 307,
     "metadata": {},
     "output_type": "execute_result"
    }
   ],
   "source": [
    "X_train.shape[1]"
   ]
  },
  {
   "cell_type": "code",
   "execution_count": 329,
   "metadata": {},
   "outputs": [],
   "source": [
    "from keras.utils.np_utils import to_categorical\n",
    "y_train_cat = to_categorical(y_train)\n",
    "y_test_cat = to_categorical(y_test)"
   ]
  },
  {
   "cell_type": "code",
   "execution_count": 330,
   "metadata": {},
   "outputs": [],
   "source": [
    "#Using a tfidf vectorized corpus\n",
    "input_dim = X_train.shape[1]"
   ]
  },
  {
   "cell_type": "code",
   "execution_count": 331,
   "metadata": {},
   "outputs": [],
   "source": [
    "model = Sequential()"
   ]
  },
  {
   "cell_type": "code",
   "execution_count": 332,
   "metadata": {},
   "outputs": [],
   "source": [
    "model.add(layers.Dense(10, input_dim=input_dim, activation='relu'))\n",
    "#now output layer\n",
    "model.add(layers.Dense(2, activation=\"softmax\")) #2 layers because 2 classes, if 1 then sigmoid- binary classification"
   ]
  },
  {
   "cell_type": "code",
   "execution_count": 333,
   "metadata": {},
   "outputs": [],
   "source": [
    "model.compile(loss='categorical_crossentropy', optimizer='adam', metrics=['accuracy'])"
   ]
  },
  {
   "cell_type": "code",
   "execution_count": 334,
   "metadata": {},
   "outputs": [],
   "source": [
    "#if you want to use categorical you can but you need to do to_categorical on your y variable\n",
    "#to avoid this we use binary cross entropy"
   ]
  },
  {
   "cell_type": "code",
   "execution_count": 347,
   "metadata": {},
   "outputs": [
    {
     "name": "stdout",
     "output_type": "stream",
     "text": [
      "Train on 595 samples, validate on 105 samples\n",
      "Epoch 1/100\n",
      "595/595 [==============================] - 0s 103us/step - loss: 0.0096 - acc: 0.9983 - val_loss: 0.5272 - val_acc: 0.8190\n",
      "Epoch 2/100\n",
      "595/595 [==============================] - 0s 122us/step - loss: 0.0092 - acc: 0.9966 - val_loss: 0.5357 - val_acc: 0.8190\n",
      "Epoch 3/100\n",
      "595/595 [==============================] - 0s 120us/step - loss: 0.0102 - acc: 0.9983 - val_loss: 0.5334 - val_acc: 0.8286\n",
      "Epoch 4/100\n",
      "595/595 [==============================] - 0s 94us/step - loss: 0.0091 - acc: 0.9983 - val_loss: 0.5394 - val_acc: 0.8190\n",
      "Epoch 5/100\n",
      "595/595 [==============================] - 0s 104us/step - loss: 0.0089 - acc: 0.9983 - val_loss: 0.5434 - val_acc: 0.8190\n",
      "Epoch 6/100\n",
      "595/595 [==============================] - 0s 108us/step - loss: 0.0085 - acc: 0.9983 - val_loss: 0.5472 - val_acc: 0.8190\n",
      "Epoch 7/100\n",
      "595/595 [==============================] - 0s 103us/step - loss: 0.0088 - acc: 0.9966 - val_loss: 0.5543 - val_acc: 0.8190\n",
      "Epoch 8/100\n",
      "595/595 [==============================] - 0s 100us/step - loss: 0.0090 - acc: 0.9983 - val_loss: 0.5560 - val_acc: 0.8190\n",
      "Epoch 9/100\n",
      "595/595 [==============================] - 0s 98us/step - loss: 0.0080 - acc: 0.9983 - val_loss: 0.5617 - val_acc: 0.8286\n",
      "Epoch 10/100\n",
      "595/595 [==============================] - 0s 97us/step - loss: 0.0080 - acc: 0.9983 - val_loss: 0.5634 - val_acc: 0.8286\n",
      "Epoch 11/100\n",
      "595/595 [==============================] - 0s 100us/step - loss: 0.0081 - acc: 0.9983 - val_loss: 0.5716 - val_acc: 0.8381\n",
      "Epoch 12/100\n",
      "595/595 [==============================] - 0s 97us/step - loss: 0.0078 - acc: 0.9966 - val_loss: 0.5728 - val_acc: 0.8286\n",
      "Epoch 13/100\n",
      "595/595 [==============================] - 0s 95us/step - loss: 0.0073 - acc: 0.9983 - val_loss: 0.5806 - val_acc: 0.8381\n",
      "Epoch 14/100\n",
      "595/595 [==============================] - 0s 101us/step - loss: 0.0079 - acc: 0.9983 - val_loss: 0.5805 - val_acc: 0.8381\n",
      "Epoch 15/100\n",
      "595/595 [==============================] - 0s 97us/step - loss: 0.0071 - acc: 0.9966 - val_loss: 0.5815 - val_acc: 0.8286\n",
      "Epoch 16/100\n",
      "595/595 [==============================] - 0s 97us/step - loss: 0.0068 - acc: 0.9983 - val_loss: 0.5916 - val_acc: 0.8286\n",
      "Epoch 17/100\n",
      "595/595 [==============================] - 0s 93us/step - loss: 0.0070 - acc: 0.9950 - val_loss: 0.5954 - val_acc: 0.8286\n",
      "Epoch 18/100\n",
      "595/595 [==============================] - 0s 101us/step - loss: 0.0068 - acc: 0.9983 - val_loss: 0.5984 - val_acc: 0.8381\n",
      "Epoch 19/100\n",
      "595/595 [==============================] - 0s 100us/step - loss: 0.0071 - acc: 0.9966 - val_loss: 0.6028 - val_acc: 0.8286\n",
      "Epoch 20/100\n",
      "595/595 [==============================] - 0s 98us/step - loss: 0.0066 - acc: 0.9983 - val_loss: 0.6067 - val_acc: 0.8381\n",
      "Epoch 21/100\n",
      "595/595 [==============================] - 0s 100us/step - loss: 0.0067 - acc: 0.9983 - val_loss: 0.6043 - val_acc: 0.8381\n",
      "Epoch 22/100\n",
      "595/595 [==============================] - 0s 99us/step - loss: 0.0061 - acc: 0.9983 - val_loss: 0.6081 - val_acc: 0.8381\n",
      "Epoch 23/100\n",
      "595/595 [==============================] - 0s 100us/step - loss: 0.0066 - acc: 0.9983 - val_loss: 0.6122 - val_acc: 0.8381\n",
      "Epoch 24/100\n",
      "595/595 [==============================] - 0s 103us/step - loss: 0.0068 - acc: 0.9966 - val_loss: 0.6187 - val_acc: 0.8286\n",
      "Epoch 25/100\n",
      "595/595 [==============================] - 0s 106us/step - loss: 0.0062 - acc: 0.9983 - val_loss: 0.6198 - val_acc: 0.8381\n",
      "Epoch 26/100\n",
      "595/595 [==============================] - 0s 106us/step - loss: 0.0063 - acc: 0.9983 - val_loss: 0.6211 - val_acc: 0.8286\n",
      "Epoch 27/100\n",
      "595/595 [==============================] - 0s 96us/step - loss: 0.0068 - acc: 0.9983 - val_loss: 0.6240 - val_acc: 0.8381\n",
      "Epoch 28/100\n",
      "595/595 [==============================] - 0s 100us/step - loss: 0.0065 - acc: 0.9983 - val_loss: 0.6292 - val_acc: 0.8286\n",
      "Epoch 29/100\n",
      "595/595 [==============================] - 0s 99us/step - loss: 0.0071 - acc: 0.9966 - val_loss: 0.6288 - val_acc: 0.8381\n",
      "Epoch 30/100\n",
      "595/595 [==============================] - 0s 95us/step - loss: 0.0066 - acc: 0.9950 - val_loss: 0.6414 - val_acc: 0.8286\n",
      "Epoch 31/100\n",
      "595/595 [==============================] - 0s 99us/step - loss: 0.0063 - acc: 0.9983 - val_loss: 0.6335 - val_acc: 0.8381\n",
      "Epoch 32/100\n",
      "595/595 [==============================] - 0s 96us/step - loss: 0.0059 - acc: 0.9966 - val_loss: 0.6416 - val_acc: 0.8286\n",
      "Epoch 33/100\n",
      "595/595 [==============================] - 0s 97us/step - loss: 0.0060 - acc: 0.9983 - val_loss: 0.6479 - val_acc: 0.8286\n",
      "Epoch 34/100\n",
      "595/595 [==============================] - 0s 93us/step - loss: 0.0061 - acc: 0.9983 - val_loss: 0.6453 - val_acc: 0.8286\n",
      "Epoch 35/100\n",
      "595/595 [==============================] - 0s 105us/step - loss: 0.0056 - acc: 0.9966 - val_loss: 0.6511 - val_acc: 0.8286\n",
      "Epoch 36/100\n",
      "595/595 [==============================] - 0s 86us/step - loss: 0.0072 - acc: 0.9950 - val_loss: 0.6547 - val_acc: 0.8286\n",
      "Epoch 37/100\n",
      "595/595 [==============================] - 0s 100us/step - loss: 0.0062 - acc: 0.9983 - val_loss: 0.6540 - val_acc: 0.8286\n",
      "Epoch 38/100\n",
      "595/595 [==============================] - 0s 89us/step - loss: 0.0058 - acc: 0.9983 - val_loss: 0.6552 - val_acc: 0.8286\n",
      "Epoch 39/100\n",
      "595/595 [==============================] - 0s 86us/step - loss: 0.0052 - acc: 0.9983 - val_loss: 0.6558 - val_acc: 0.8286\n",
      "Epoch 40/100\n",
      "595/595 [==============================] - 0s 97us/step - loss: 0.0059 - acc: 0.9966 - val_loss: 0.6645 - val_acc: 0.8190\n",
      "Epoch 41/100\n",
      "595/595 [==============================] - 0s 91us/step - loss: 0.0054 - acc: 0.9983 - val_loss: 0.6740 - val_acc: 0.8381\n",
      "Epoch 42/100\n",
      "595/595 [==============================] - 0s 98us/step - loss: 0.0061 - acc: 0.9983 - val_loss: 0.6668 - val_acc: 0.8286\n",
      "Epoch 43/100\n",
      "595/595 [==============================] - 0s 92us/step - loss: 0.0052 - acc: 0.9983 - val_loss: 0.6735 - val_acc: 0.8381\n",
      "Epoch 44/100\n",
      "595/595 [==============================] - 0s 99us/step - loss: 0.0060 - acc: 0.9966 - val_loss: 0.6766 - val_acc: 0.8381\n",
      "Epoch 45/100\n",
      "595/595 [==============================] - 0s 91us/step - loss: 0.0053 - acc: 0.9983 - val_loss: 0.6765 - val_acc: 0.8381\n",
      "Epoch 46/100\n",
      "595/595 [==============================] - 0s 99us/step - loss: 0.0052 - acc: 0.9983 - val_loss: 0.6767 - val_acc: 0.8286\n",
      "Epoch 47/100\n",
      "595/595 [==============================] - 0s 103us/step - loss: 0.0058 - acc: 0.9983 - val_loss: 0.6778 - val_acc: 0.8381\n",
      "Epoch 48/100\n",
      "595/595 [==============================] - 0s 99us/step - loss: 0.0057 - acc: 0.9966 - val_loss: 0.6851 - val_acc: 0.8286\n",
      "Epoch 49/100\n",
      "595/595 [==============================] - 0s 100us/step - loss: 0.0059 - acc: 0.9966 - val_loss: 0.6938 - val_acc: 0.8381\n",
      "Epoch 50/100\n",
      "595/595 [==============================] - 0s 97us/step - loss: 0.0053 - acc: 0.9983 - val_loss: 0.6905 - val_acc: 0.8381\n",
      "Epoch 51/100\n",
      "595/595 [==============================] - 0s 89us/step - loss: 0.0055 - acc: 0.9983 - val_loss: 0.6881 - val_acc: 0.8381\n",
      "Epoch 52/100\n",
      "595/595 [==============================] - 0s 91us/step - loss: 0.0051 - acc: 0.9966 - val_loss: 0.6906 - val_acc: 0.8286\n",
      "Epoch 53/100\n",
      "595/595 [==============================] - 0s 91us/step - loss: 0.0047 - acc: 0.9983 - val_loss: 0.6987 - val_acc: 0.8381\n",
      "Epoch 54/100\n",
      "595/595 [==============================] - 0s 93us/step - loss: 0.0054 - acc: 0.9983 - val_loss: 0.7008 - val_acc: 0.8381\n",
      "Epoch 55/100\n",
      "595/595 [==============================] - 0s 91us/step - loss: 0.0055 - acc: 0.9983 - val_loss: 0.6960 - val_acc: 0.8190\n",
      "Epoch 56/100\n",
      "595/595 [==============================] - 0s 91us/step - loss: 0.0046 - acc: 0.9983 - val_loss: 0.6991 - val_acc: 0.8190\n",
      "Epoch 57/100\n",
      "595/595 [==============================] - 0s 96us/step - loss: 0.0052 - acc: 0.9966 - val_loss: 0.7076 - val_acc: 0.8286\n",
      "Epoch 58/100\n",
      "595/595 [==============================] - 0s 97us/step - loss: 0.0050 - acc: 0.9983 - val_loss: 0.7104 - val_acc: 0.8286\n",
      "Epoch 59/100\n",
      "595/595 [==============================] - 0s 90us/step - loss: 0.0055 - acc: 0.9983 - val_loss: 0.7043 - val_acc: 0.8190\n",
      "Epoch 60/100\n",
      "595/595 [==============================] - 0s 96us/step - loss: 0.0066 - acc: 0.9983 - val_loss: 0.7230 - val_acc: 0.8381\n",
      "Epoch 61/100\n"
     ]
    },
    {
     "name": "stdout",
     "output_type": "stream",
     "text": [
      "595/595 [==============================] - 0s 92us/step - loss: 0.0068 - acc: 0.9966 - val_loss: 0.7140 - val_acc: 0.8286\n",
      "Epoch 62/100\n",
      "595/595 [==============================] - 0s 93us/step - loss: 0.0046 - acc: 0.9983 - val_loss: 0.7208 - val_acc: 0.8286\n",
      "Epoch 63/100\n",
      "595/595 [==============================] - 0s 96us/step - loss: 0.0051 - acc: 0.9983 - val_loss: 0.7139 - val_acc: 0.8190\n",
      "Epoch 64/100\n",
      "595/595 [==============================] - 0s 87us/step - loss: 0.0052 - acc: 0.9983 - val_loss: 0.7158 - val_acc: 0.8190\n",
      "Epoch 65/100\n",
      "595/595 [==============================] - 0s 91us/step - loss: 0.0050 - acc: 0.9983 - val_loss: 0.7139 - val_acc: 0.8190\n",
      "Epoch 66/100\n",
      "595/595 [==============================] - 0s 93us/step - loss: 0.0058 - acc: 0.9983 - val_loss: 0.7180 - val_acc: 0.8190\n",
      "Epoch 67/100\n",
      "595/595 [==============================] - 0s 92us/step - loss: 0.0047 - acc: 0.9983 - val_loss: 0.7211 - val_acc: 0.8190\n",
      "Epoch 68/100\n",
      "595/595 [==============================] - 0s 97us/step - loss: 0.0049 - acc: 0.9983 - val_loss: 0.7233 - val_acc: 0.8190\n",
      "Epoch 69/100\n",
      "595/595 [==============================] - 0s 96us/step - loss: 0.0046 - acc: 0.9983 - val_loss: 0.7266 - val_acc: 0.8190\n",
      "Epoch 70/100\n",
      "595/595 [==============================] - 0s 87us/step - loss: 0.0052 - acc: 0.9983 - val_loss: 0.7281 - val_acc: 0.8190\n",
      "Epoch 71/100\n",
      "595/595 [==============================] - 0s 89us/step - loss: 0.0052 - acc: 0.9983 - val_loss: 0.7310 - val_acc: 0.8190\n",
      "Epoch 72/100\n",
      "595/595 [==============================] - 0s 88us/step - loss: 0.0051 - acc: 0.9966 - val_loss: 0.7329 - val_acc: 0.8190\n",
      "Epoch 73/100\n",
      "595/595 [==============================] - 0s 97us/step - loss: 0.0050 - acc: 0.9966 - val_loss: 0.7370 - val_acc: 0.8095\n",
      "Epoch 74/100\n",
      "595/595 [==============================] - 0s 97us/step - loss: 0.0052 - acc: 0.9966 - val_loss: 0.7330 - val_acc: 0.8190\n",
      "Epoch 75/100\n",
      "595/595 [==============================] - 0s 91us/step - loss: 0.0048 - acc: 0.9983 - val_loss: 0.7373 - val_acc: 0.8095\n",
      "Epoch 76/100\n",
      "595/595 [==============================] - 0s 89us/step - loss: 0.0054 - acc: 0.9966 - val_loss: 0.7314 - val_acc: 0.8190\n",
      "Epoch 77/100\n",
      "595/595 [==============================] - 0s 88us/step - loss: 0.0049 - acc: 0.9983 - val_loss: 0.7540 - val_acc: 0.8190\n",
      "Epoch 78/100\n",
      "595/595 [==============================] - 0s 91us/step - loss: 0.0045 - acc: 0.9983 - val_loss: 0.7431 - val_acc: 0.8095\n",
      "Epoch 79/100\n",
      "595/595 [==============================] - 0s 88us/step - loss: 0.0052 - acc: 0.9983 - val_loss: 0.7516 - val_acc: 0.8095\n",
      "Epoch 80/100\n",
      "595/595 [==============================] - 0s 90us/step - loss: 0.0044 - acc: 0.9983 - val_loss: 0.7452 - val_acc: 0.8095\n",
      "Epoch 81/100\n",
      "595/595 [==============================] - 0s 90us/step - loss: 0.0050 - acc: 0.9966 - val_loss: 0.7521 - val_acc: 0.8095\n",
      "Epoch 82/100\n",
      "595/595 [==============================] - 0s 89us/step - loss: 0.0052 - acc: 0.9983 - val_loss: 0.7575 - val_acc: 0.8095\n",
      "Epoch 83/100\n",
      "595/595 [==============================] - 0s 87us/step - loss: 0.0047 - acc: 0.9983 - val_loss: 0.7511 - val_acc: 0.8095\n",
      "Epoch 84/100\n",
      "595/595 [==============================] - 0s 90us/step - loss: 0.0060 - acc: 0.9966 - val_loss: 0.7650 - val_acc: 0.8095\n",
      "Epoch 85/100\n",
      "595/595 [==============================] - 0s 88us/step - loss: 0.0048 - acc: 0.9983 - val_loss: 0.7758 - val_acc: 0.8095\n",
      "Epoch 86/100\n",
      "595/595 [==============================] - 0s 89us/step - loss: 0.0046 - acc: 0.9983 - val_loss: 0.7627 - val_acc: 0.8095\n",
      "Epoch 87/100\n",
      "595/595 [==============================] - 0s 92us/step - loss: 0.0046 - acc: 0.9983 - val_loss: 0.7576 - val_acc: 0.8095\n",
      "Epoch 88/100\n",
      "595/595 [==============================] - 0s 89us/step - loss: 0.0049 - acc: 0.9983 - val_loss: 0.7582 - val_acc: 0.8095\n",
      "Epoch 89/100\n",
      "595/595 [==============================] - 0s 90us/step - loss: 0.0048 - acc: 0.9966 - val_loss: 0.7744 - val_acc: 0.8095\n",
      "Epoch 90/100\n",
      "595/595 [==============================] - 0s 90us/step - loss: 0.0045 - acc: 0.9983 - val_loss: 0.7720 - val_acc: 0.8095\n",
      "Epoch 91/100\n",
      "595/595 [==============================] - 0s 90us/step - loss: 0.0051 - acc: 0.9983 - val_loss: 0.7660 - val_acc: 0.8095\n",
      "Epoch 92/100\n",
      "595/595 [==============================] - 0s 89us/step - loss: 0.0052 - acc: 0.9983 - val_loss: 0.7721 - val_acc: 0.8095\n",
      "Epoch 93/100\n",
      "595/595 [==============================] - 0s 92us/step - loss: 0.0041 - acc: 0.9983 - val_loss: 0.7700 - val_acc: 0.8095\n",
      "Epoch 94/100\n",
      "595/595 [==============================] - 0s 90us/step - loss: 0.0048 - acc: 0.9983 - val_loss: 0.7783 - val_acc: 0.8095\n",
      "Epoch 95/100\n",
      "595/595 [==============================] - 0s 96us/step - loss: 0.0051 - acc: 0.9983 - val_loss: 0.7779 - val_acc: 0.8095\n",
      "Epoch 96/100\n",
      "595/595 [==============================] - 0s 87us/step - loss: 0.0047 - acc: 0.9950 - val_loss: 0.7913 - val_acc: 0.8095\n",
      "Epoch 97/100\n",
      "595/595 [==============================] - 0s 91us/step - loss: 0.0052 - acc: 0.9983 - val_loss: 0.7940 - val_acc: 0.8095\n",
      "Epoch 98/100\n",
      "595/595 [==============================] - 0s 89us/step - loss: 0.0048 - acc: 0.9983 - val_loss: 0.7893 - val_acc: 0.8190\n",
      "Epoch 99/100\n",
      "595/595 [==============================] - 0s 91us/step - loss: 0.0052 - acc: 0.9950 - val_loss: 0.7952 - val_acc: 0.8095\n",
      "Epoch 100/100\n",
      "595/595 [==============================] - 0s 91us/step - loss: 0.0044 - acc: 0.9983 - val_loss: 0.7894 - val_acc: 0.8095\n"
     ]
    }
   ],
   "source": [
    "history= model.fit(X_train, y_train_cat, epochs=100, validation_split=0.15, batch_size=10)"
   ]
  },
  {
   "cell_type": "code",
   "execution_count": 348,
   "metadata": {},
   "outputs": [
    {
     "name": "stdout",
     "output_type": "stream",
     "text": [
      "Training Accuracy: 0.97\n",
      "Training Loss: 0.12156303958967328\n"
     ]
    }
   ],
   "source": [
    "loss, accuracy = model.evaluate(X_train, y_train_cat, verbose=False)\n",
    "print (\"Training Accuracy:\",accuracy)\n",
    "print (\"Training Loss:\", loss)"
   ]
  },
  {
   "cell_type": "code",
   "execution_count": 384,
   "metadata": {},
   "outputs": [],
   "source": [
    "loss_test, accuracy_test = model.evaluate(X_test, y_test_cat, verbose=False)"
   ]
  },
  {
   "cell_type": "code",
   "execution_count": 350,
   "metadata": {},
   "outputs": [
    {
     "name": "stdout",
     "output_type": "stream",
     "text": [
      "Testing Accuracy: 0.97\n",
      "Testing Loss: 0.12156303958967328\n"
     ]
    }
   ],
   "source": [
    "print (\"Testing Accuracy:\",accuracy_test)\n",
    "print (\"Testing Loss:\", loss_test)"
   ]
  },
  {
   "cell_type": "code",
   "execution_count": 351,
   "metadata": {},
   "outputs": [],
   "source": [
    "#Target always needs to be transformed via to_categorical \n",
    "#If the output class is 1, use signmoid instead of softmax"
   ]
  },
  {
   "cell_type": "code",
   "execution_count": 352,
   "metadata": {},
   "outputs": [],
   "source": [
    "#Graphing the accuracy"
   ]
  },
  {
   "cell_type": "code",
   "execution_count": 353,
   "metadata": {},
   "outputs": [],
   "source": [
    "import matplotlib.pyplot as plt\n",
    "%matplotlib inline "
   ]
  },
  {
   "cell_type": "code",
   "execution_count": 354,
   "metadata": {},
   "outputs": [],
   "source": [
    "plt.style.use(\"ggplot\")\n",
    "\n",
    "def plot_history(history):\n",
    "    acc = history.history[\"acc\"]\n",
    "    val_acc = history.history[\"val_acc\"]\n",
    "    loss = history.history[\"loss\"]\n",
    "    val_loss = history.history[\"val_loss\"]\n",
    "    x = range(1,len(acc)+1)\n",
    "    plt.figure(figsize=(12,5))\n",
    "    plt.subplot(1,2,1)\n",
    "    plt.plot(x,acc,\"b\", label=\"Training_Acc\")\n",
    "    plt.plot(x,val_acc,\"r\", label=\"Validation_Acc\")\n",
    "    plt.title(\"Training and Validation Accuracy\")\n",
    "    plt.legend()\n",
    "    plt.subplot(1,2,2)\n",
    "    plt.plot(x,loss,\"b\", label=\"Training_Acc\")\n",
    "    plt.plot(x,val_loss,\"r\", label=\"Validation_Acc\")\n",
    "    plt.title(\"Training and Validation Loss\")\n",
    "    plt.legend()"
   ]
  },
  {
   "cell_type": "code",
   "execution_count": 355,
   "metadata": {
    "scrolled": true
   },
   "outputs": [
    {
     "data": {
      "image/png": "[encoded data removed]",
      "text/plain": [
       "<Figure size 864x360 with 2 Axes>"
      ]
     },
     "metadata": {},
     "output_type": "display_data"
    }
   ],
   "source": [
    "plot_history(history)"
   ]
  },
  {
   "cell_type": "code",
   "execution_count": 356,
   "metadata": {},
   "outputs": [
    {
     "data": {
      "text/plain": [
       "'sure lose flat character audience nearly half walk'"
      ]
     },
     "execution_count": 356,
     "metadata": {},
     "output_type": "execute_result"
    }
   ],
   "source": [
    "#To use word embeddings we need to go back to our original corpus\n",
    "norm_corpus[1]"
   ]
  },
  {
   "cell_type": "code",
   "execution_count": 357,
   "metadata": {},
   "outputs": [],
   "source": [
    "from numpy import array\n",
    "from keras.preprocessing.text import one_hot\n",
    "from keras.preprocessing.sequence import pad_sequences\n",
    "from keras.models import Sequential\n",
    "from keras.layers import Dense\n",
    "from keras.layers import Flatten\n",
    "from keras.layers.embeddings import Embedding"
   ]
  },
  {
   "cell_type": "code",
   "execution_count": 361,
   "metadata": {},
   "outputs": [],
   "source": [
    "vocab= tf.get_feature_names()"
   ]
  },
  {
   "cell_type": "code",
   "execution_count": 362,
   "metadata": {},
   "outputs": [
    {
     "data": {
      "text/plain": [
       "2649"
      ]
     },
     "execution_count": 362,
     "metadata": {},
     "output_type": "execute_result"
    }
   ],
   "source": [
    "len(vocab)"
   ]
  },
  {
   "cell_type": "code",
   "execution_count": 363,
   "metadata": {},
   "outputs": [],
   "source": [
    "vocab_size = len(vocab)"
   ]
  },
  {
   "cell_type": "code",
   "execution_count": 364,
   "metadata": {},
   "outputs": [],
   "source": [
    "encoded_docs = [one_hot(d, vocab_size) for d in norm_corpus]"
   ]
  },
  {
   "cell_type": "code",
   "execution_count": 366,
   "metadata": {},
   "outputs": [
    {
     "name": "stdout",
     "output_type": "stream",
     "text": [
      "It is a really good show to watch.  \n",
      "[8, 5, 2, 42, 28, 124, 9, 94]\n"
     ]
    }
   ],
   "source": [
    "#Segway to work on keras tokenization\n",
    "sentences = df[\"Review\"].values\n",
    "y = df[\"Label\"].values\n",
    "\n",
    "sentences_train, sentences_test, y_train, y_test = tts(sentences, y, test_size=0.25, random_state=1000)\n",
    "\n",
    "from keras.preprocessing.text import Tokenizer\n",
    "tokenizer = Tokenizer(num_words=5000)\n",
    "tokenizer.fit_on_texts(sentences_train)\n",
    "\n",
    "X_train = tokenizer.texts_to_sequences(sentences_train)\n",
    "X_test = tokenizer.texts_to_sequences(sentences_test)\n",
    "\n",
    "vocab_size = len(tokenizer.word_index)+1 # adding 1 because of reserved 0 index\n",
    "\n",
    "print (sentences_train[2])\n",
    "print (X_train[2])"
   ]
  },
  {
   "cell_type": "code",
   "execution_count": null,
   "metadata": {},
   "outputs": [],
   "source": [
    "#it has one hot encoded our document! Basically its an alternative to TFIDF, count vectorizer"
   ]
  },
  {
   "cell_type": "code",
   "execution_count": 369,
   "metadata": {},
   "outputs": [
    {
     "data": {
      "text/plain": [
       "[64, 35, 123, 3, 315, 409]"
      ]
     },
     "execution_count": 369,
     "metadata": {},
     "output_type": "execute_result"
    }
   ],
   "source": [
    "X_train[0]"
   ]
  },
  {
   "cell_type": "code",
   "execution_count": 370,
   "metadata": {},
   "outputs": [
    {
     "data": {
      "text/plain": [
       "') some great music, and terrific scenery.  '"
      ]
     },
     "execution_count": 370,
     "metadata": {},
     "output_type": "execute_result"
    }
   ],
   "source": [
    "sentences_train[0]"
   ]
  },
  {
   "cell_type": "code",
   "execution_count": null,
   "metadata": {},
   "outputs": [],
   "source": [
    "#Each sentence has a different length so we need to do padding to make the final vector the same length"
   ]
  },
  {
   "cell_type": "code",
   "execution_count": 371,
   "metadata": {},
   "outputs": [
    {
     "name": "stdout",
     "output_type": "stream",
     "text": [
      "[ 64  35 123   3 315 409   0   0   0   0   0   0   0   0   0   0   0   0\n",
      "   0   0   0   0   0   0   0   0   0   0   0   0   0   0   0   0   0   0\n",
      "   0   0   0   0   0   0   0   0   0   0   0   0   0   0   0   0   0   0\n",
      "   0   0   0   0   0   0   0   0   0   0   0   0   0   0   0   0   0   0\n",
      "   0   0   0   0   0   0   0   0   0   0   0   0   0   0   0   0   0   0\n",
      "   0   0   0   0   0   0   0   0   0   0]\n"
     ]
    }
   ],
   "source": [
    "#Padding\n",
    "\n",
    "from keras.preprocessing.sequence import pad_sequences\n",
    "maxlen=100\n",
    "X_train = pad_sequences(X_train, padding = \"post\", maxlen= maxlen)\n",
    "X_test = pad_sequences(X_test, padding = \"post\", maxlen=maxlen)\n",
    "\n",
    "print(X_train[0,:])"
   ]
  },
  {
   "cell_type": "code",
   "execution_count": null,
   "metadata": {},
   "outputs": [],
   "source": [
    "#This is how we have created word embeddings using one hot encoding"
   ]
  },
  {
   "cell_type": "code",
   "execution_count": 372,
   "metadata": {},
   "outputs": [],
   "source": [
    "#Now lets implement our final model\n",
    "from keras.models import Sequential\n",
    "from keras import layers\n",
    "embedding_dim = 50"
   ]
  },
  {
   "cell_type": "code",
   "execution_count": 373,
   "metadata": {},
   "outputs": [],
   "source": [
    "model= Sequential()\n",
    "model.add(layers.Embedding(input_dim=vocab_size, output_dim= embedding_dim, input_length=maxlen))"
   ]
  },
  {
   "cell_type": "code",
   "execution_count": 374,
   "metadata": {},
   "outputs": [],
   "source": [
    "model.add(layers.Flatten())\n",
    "model.add(layers.Dense(10, activation = \"relu\"))\n",
    "model.add(layers.Dense(1, activation=\"sigmoid\"))\n",
    "model.compile(optimizer=\"adam\", loss=\"binary_crossentropy\", metrics = [\"accuracy\"])"
   ]
  },
  {
   "cell_type": "code",
   "execution_count": 375,
   "metadata": {
    "scrolled": true
   },
   "outputs": [
    {
     "name": "stdout",
     "output_type": "stream",
     "text": [
      "_________________________________________________________________\n",
      "Layer (type)                 Output Shape              Param #   \n",
      "=================================================================\n",
      "embedding_1 (Embedding)      (None, 100, 50)           132500    \n",
      "_________________________________________________________________\n",
      "flatten_1 (Flatten)          (None, 5000)              0         \n",
      "_________________________________________________________________\n",
      "dense_11 (Dense)             (None, 10)                50010     \n",
      "_________________________________________________________________\n",
      "dense_12 (Dense)             (None, 1)                 11        \n",
      "=================================================================\n",
      "Total params: 182,521\n",
      "Trainable params: 182,521\n",
      "Non-trainable params: 0\n",
      "_________________________________________________________________\n"
     ]
    }
   ],
   "source": [
    "model.summary()"
   ]
  },
  {
   "cell_type": "code",
   "execution_count": 391,
   "metadata": {
    "scrolled": true
   },
   "outputs": [
    {
     "name": "stdout",
     "output_type": "stream",
     "text": [
      "Train on 750 samples, validate on 250 samples\n",
      "Epoch 1/20\n",
      "750/750 [==============================] - 0s 130us/step - loss: 0.0038 - acc: 1.0000 - val_loss: 0.6882 - val_acc: 0.6920\n",
      "Epoch 2/20\n",
      "750/750 [==============================] - 0s 127us/step - loss: 0.0033 - acc: 1.0000 - val_loss: 0.6945 - val_acc: 0.7040\n",
      "Epoch 3/20\n",
      "750/750 [==============================] - 0s 121us/step - loss: 0.0029 - acc: 1.0000 - val_loss: 0.7022 - val_acc: 0.7080\n",
      "Epoch 4/20\n",
      "750/750 [==============================] - 0s 120us/step - loss: 0.0025 - acc: 1.0000 - val_loss: 0.7070 - val_acc: 0.6960\n",
      "Epoch 5/20\n",
      "750/750 [==============================] - 0s 122us/step - loss: 0.0023 - acc: 1.0000 - val_loss: 0.7153 - val_acc: 0.7120\n",
      "Epoch 6/20\n",
      "750/750 [==============================] - 0s 119us/step - loss: 0.0020 - acc: 1.0000 - val_loss: 0.7198 - val_acc: 0.7040\n",
      "Epoch 7/20\n",
      "750/750 [==============================] - 0s 126us/step - loss: 0.0018 - acc: 1.0000 - val_loss: 0.7250 - val_acc: 0.6960\n",
      "Epoch 8/20\n",
      "750/750 [==============================] - 0s 123us/step - loss: 0.0017 - acc: 1.0000 - val_loss: 0.7303 - val_acc: 0.7040\n",
      "Epoch 9/20\n",
      "750/750 [==============================] - 0s 117us/step - loss: 0.0015 - acc: 1.0000 - val_loss: 0.7348 - val_acc: 0.7040\n",
      "Epoch 10/20\n",
      "750/750 [==============================] - 0s 117us/step - loss: 0.0013 - acc: 1.0000 - val_loss: 0.7405 - val_acc: 0.7080\n",
      "Epoch 11/20\n",
      "750/750 [==============================] - 0s 112us/step - loss: 0.0012 - acc: 1.0000 - val_loss: 0.7443 - val_acc: 0.7000\n",
      "Epoch 12/20\n",
      "750/750 [==============================] - 0s 122us/step - loss: 0.0011 - acc: 1.0000 - val_loss: 0.7496 - val_acc: 0.7080\n",
      "Epoch 13/20\n",
      "750/750 [==============================] - 0s 122us/step - loss: 0.0010 - acc: 1.0000 - val_loss: 0.7554 - val_acc: 0.7040\n",
      "Epoch 14/20\n",
      "750/750 [==============================] - 0s 112us/step - loss: 9.5990e-04 - acc: 1.0000 - val_loss: 0.7589 - val_acc: 0.7080\n",
      "Epoch 15/20\n",
      "750/750 [==============================] - 0s 120us/step - loss: 8.7842e-04 - acc: 1.0000 - val_loss: 0.7626 - val_acc: 0.7040\n",
      "Epoch 16/20\n",
      "750/750 [==============================] - 0s 108us/step - loss: 8.1825e-04 - acc: 1.0000 - val_loss: 0.7668 - val_acc: 0.7080\n",
      "Epoch 17/20\n",
      "750/750 [==============================] - 0s 125us/step - loss: 7.5870e-04 - acc: 1.0000 - val_loss: 0.7720 - val_acc: 0.7080\n",
      "Epoch 18/20\n",
      "750/750 [==============================] - 0s 116us/step - loss: 7.1087e-04 - acc: 1.0000 - val_loss: 0.7770 - val_acc: 0.7040\n",
      "Epoch 19/20\n",
      "750/750 [==============================] - 0s 115us/step - loss: 6.6107e-04 - acc: 1.0000 - val_loss: 0.7789 - val_acc: 0.7080\n",
      "Epoch 20/20\n",
      "750/750 [==============================] - 0s 111us/step - loss: 6.1355e-04 - acc: 1.0000 - val_loss: 0.7831 - val_acc: 0.7080\n"
     ]
    }
   ],
   "source": [
    "h= model.fit(X_train, y_train, batch_size=20, epochs=20, verbose=1, validation_data=(X_test, y_test))"
   ]
  },
  {
   "cell_type": "code",
   "execution_count": 392,
   "metadata": {},
   "outputs": [
    {
     "name": "stdout",
     "output_type": "stream",
     "text": [
      "Training Accuracy: 1.0\n",
      "Training Loss: 0.0005829093509043256\n"
     ]
    }
   ],
   "source": [
    "loss, accuracy = model.evaluate(X_train, y_train, verbose=False)\n",
    "print (\"Training Accuracy:\",accuracy)\n",
    "print (\"Training Loss:\", loss)"
   ]
  },
  {
   "cell_type": "code",
   "execution_count": 393,
   "metadata": {},
   "outputs": [],
   "source": [
    "loss_test, accuracy_test = model.evaluate(X_test, y_test, verbose=False)"
   ]
  },
  {
   "cell_type": "code",
   "execution_count": 394,
   "metadata": {},
   "outputs": [
    {
     "name": "stdout",
     "output_type": "stream",
     "text": [
      "Testing Accuracy: 0.7080000014305114\n",
      "Testing Loss: 0.7830537714958191\n"
     ]
    }
   ],
   "source": [
    "print (\"Testing Accuracy:\",accuracy_test)\n",
    "print (\"Testing Loss:\", loss_test)"
   ]
  },
  {
   "cell_type": "code",
   "execution_count": 395,
   "metadata": {
    "scrolled": true
   },
   "outputs": [
    {
     "data": {
      "image/png": "[encoded data removed]",
      "text/plain": [
       "<Figure size 864x360 with 2 Axes>"
      ]
     },
     "metadata": {},
     "output_type": "display_data"
    }
   ],
   "source": [
    "plot_history(h)"
   ]
  },
  {
   "cell_type": "code",
   "execution_count": null,
   "metadata": {},
   "outputs": [],
   "source": [
    "#our deep learning ANN model demonstrates overfitting\n",
    "#Almost 30% difference between training and validation accuracy!"
   ]
  },
  {
   "cell_type": "code",
   "execution_count": null,
   "metadata": {},
   "outputs": [],
   "source": [
    "#So far of all of our models, Naive Bayes still gives us the highest accuracy of 82%"
   ]
  },
  {
   "cell_type": "code",
   "execution_count": null,
   "metadata": {},
   "outputs": [],
   "source": [
    "#Applying a CNN model to our data"
   ]
  },
  {
   "cell_type": "code",
   "execution_count": 396,
   "metadata": {},
   "outputs": [],
   "source": [
    "embedding_dim = 100"
   ]
  },
  {
   "cell_type": "code",
   "execution_count": 445,
   "metadata": {},
   "outputs": [
    {
     "name": "stdout",
     "output_type": "stream",
     "text": [
      "_________________________________________________________________\n",
      "Layer (type)                 Output Shape              Param #   \n",
      "=================================================================\n",
      "embedding_10 (Embedding)     (None, 100, 100)          265000    \n",
      "_________________________________________________________________\n",
      "conv1d_13 (Conv1D)           (None, 91, 128)           128128    \n",
      "_________________________________________________________________\n",
      "conv1d_14 (Conv1D)           (None, 82, 100)           128100    \n",
      "_________________________________________________________________\n",
      "global_max_pooling1d_9 (Glob (None, 100)               0         \n",
      "_________________________________________________________________\n",
      "dense_29 (Dense)             (None, 10)                1010      \n",
      "_________________________________________________________________\n",
      "dense_30 (Dense)             (None, 1)                 11        \n",
      "=================================================================\n",
      "Total params: 522,249\n",
      "Trainable params: 522,249\n",
      "Non-trainable params: 0\n",
      "_________________________________________________________________\n"
     ]
    }
   ],
   "source": [
    "model = Sequential()\n",
    "model.add(layers.Embedding(vocab_size, embedding_dim, input_length= maxlen))\n",
    "model.add(layers.Conv1D(128, 10, activation = \"relu\"))\n",
    "model.add(layers.Conv1D(100, 10, activation = \"relu\"))\n",
    "model.add(layers.GlobalMaxPooling1D())\n",
    "model.add(layers.Dense(10, activation = \"relu\"))\n",
    "model.add(layers.Dense(1, activation = \"sigmoid\"))\n",
    "model.compile(optimizer=\"adam\", loss =\"binary_crossentropy\",metrics =[\"accuracy\"])\n",
    "model.summary()"
   ]
  },
  {
   "cell_type": "code",
   "execution_count": 446,
   "metadata": {},
   "outputs": [],
   "source": [
    "history = model.fit(X_train, y_train, epochs=10, verbose=False, validation_data= (X_test, y_test), batch_size=10)"
   ]
  },
  {
   "cell_type": "code",
   "execution_count": 447,
   "metadata": {},
   "outputs": [],
   "source": [
    "loss, accuracy = model.evaluate(X_train, y_train, verbose=False)"
   ]
  },
  {
   "cell_type": "code",
   "execution_count": 448,
   "metadata": {},
   "outputs": [
    {
     "name": "stdout",
     "output_type": "stream",
     "text": [
      "Training Accuracy:1.000000\n"
     ]
    }
   ],
   "source": [
    "print (\"Training Accuracy:{:4f}\".format(accuracy))"
   ]
  },
  {
   "cell_type": "code",
   "execution_count": 449,
   "metadata": {},
   "outputs": [],
   "source": [
    "test_loss, test_accuracy = model.evaluate(X_test, y_test, verbose=False)"
   ]
  },
  {
   "cell_type": "code",
   "execution_count": 450,
   "metadata": {},
   "outputs": [
    {
     "name": "stdout",
     "output_type": "stream",
     "text": [
      "Testing Accuracy:0.760000\n"
     ]
    }
   ],
   "source": [
    "print (\"Testing Accuracy:{:4f}\".format(test_accuracy))"
   ]
  },
  {
   "cell_type": "code",
   "execution_count": 438,
   "metadata": {},
   "outputs": [
    {
     "data": {
      "image/png": "[encoded data removed]",
      "text/plain": [
       "<Figure size 864x360 with 2 Axes>"
      ]
     },
     "metadata": {},
     "output_type": "display_data"
    }
   ],
   "source": [
    "plot_history(history)"
   ]
  },
  {
   "cell_type": "code",
   "execution_count": null,
   "metadata": {},
   "outputs": [],
   "source": [
    "#Naive Bayes still outperforms CNN"
   ]
  },
  {
   "cell_type": "code",
   "execution_count": null,
   "metadata": {},
   "outputs": [],
   "source": []
  },
  {
   "cell_type": "code",
   "execution_count": null,
   "metadata": {},
   "outputs": [],
   "source": []
  }
 ],
 "metadata": {
  "kernelspec": {
   "display_name": "Python 3",
   "language": "python",
   "name": "python3"
  },
  "language_info": {
   "codemirror_mode": {
    "name": "ipython",
    "version": 3
   },
   "file_extension": ".py",
   "mimetype": "text/x-python",
   "name": "python",
   "nbconvert_exporter": "python",
   "pygments_lexer": "ipython3",
   "version": "3.7.1"
  }
 },
 "nbformat": 4,
 "nbformat_minor": 2
}
